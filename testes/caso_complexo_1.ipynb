{
 "cells": [
  {
   "cell_type": "markdown",
   "metadata": {},
   "source": [
    "Por que o primeiro caso funciona somente se tiver o método `copy()`? e o segundo caso funciona normalmente?\n",
    "---\n",
    "A diferença no comportamento entre os dois casos está na forma como é iterado e modificado o dicionário `usuarios` simultaneamente.\n",
    "\n",
    "**Primeiro Caso: Iteração e Deleção Direta (com `copy()` necessário)**"
   ]
  },
  {
   "cell_type": "code",
   "execution_count": 1,
   "metadata": {},
   "outputs": [
    {
     "name": "stdout",
     "output_type": "stream",
     "text": [
      "{'walace': 'ativo', 'marcos': 'ativo'}\n"
     ]
    }
   ],
   "source": [
    "usuarios = {'walace':'ativo', 'denis':'inativo', 'marcos':'ativo', 'marcelo':'inativo'}\n",
    "\n",
    "# Primeiro caso\n",
    "for user, status in usuarios.copy().items():\n",
    "    if status == 'inativo':\n",
    "        del usuarios[user]\n",
    "\n",
    "print(usuarios)"
   ]
  },
  {
   "cell_type": "markdown",
   "metadata": {},
   "source": [
    "* **Problema:** Quando itero diretamente sobre `usuarios.items()` e tento deletar itens desse mesmo dicionário durante a iteração, <span style=\"color: red;\">o Python se confunde</span>. O tamanho e a estrutura do dicionário mudam enquanto o loop tenta prosseguir, o que pode levar a erros (como pular itens ou tentar acessar chaves que não existem mais).\n",
    "\n",
    "* **Solução:** `copy()` preciso usar `usuarios.copy()`, crio uma cópia do dicionário para iterar. O loop `for` itera sobre essa cópia, enquanto as deleções ocorrem no dicionário original `usuarios`. Isso evita o problema de modificar o dicionário durante a iteração."
   ]
  },
  {
   "cell_type": "markdown",
   "metadata": {},
   "source": [
    "**Segundo Caso: Criação de um Novo Dicionário**"
   ]
  },
  {
   "cell_type": "code",
   "execution_count": 2,
   "metadata": {},
   "outputs": [
    {
     "name": "stdout",
     "output_type": "stream",
     "text": [
      "{'walace': 'ativo', 'marcos': 'ativo'}\n"
     ]
    }
   ],
   "source": [
    "usuarios = {'walace':'ativo', 'denis':'inativo', 'marcos':'ativo', 'marcelo':'inativo'}\n",
    "\n",
    "# Segundo caso\n",
    "usuarios_ativos = {}\n",
    "for user, status in usuarios.items():\n",
    "    if status == 'ativo':\n",
    "        usuarios_ativos[user] = status\n",
    "\n",
    "print(usuarios_ativos)"
   ]
  },
  {
   "cell_type": "markdown",
   "metadata": {},
   "source": [
    "* **Funcionamento:** Neste caso, eu não to modificando o dicionário `usuarios` durante a iteração. Em vez disso, to criando um novo dicionário chamado `usuarios_ativos` e adicionando nele apenas os usuários com status \"ativo\".  Como a estrutura de `usuarios` não é alterada durante o loop, não há problemas em iterar diretamente sobre ele.\n",
    "\n",
    "**Em resumo:**\n",
    "\n",
    "* Modificar um dicionário enquanto itera sobre ele diretamente (como no primeiro caso sem `.copy()`) é uma prática perigosa e leva a erros.\n",
    "* Criar um novo dicionário com base nos dados do dicionário original (como no segundo caso) é uma maneira segura de filtrar ou transformar dados sem modificar a estrutura sobre a qual estou iterando.\n",
    "* O método `copy()` garante que a iteração ocorra sobre uma cópia do dicionário, permitindo modificações no dicionário original sem afetar o loop."
   ]
  }
 ],
 "metadata": {
  "kernelspec": {
   "display_name": "Python 3",
   "language": "python",
   "name": "python3"
  },
  "language_info": {
   "codemirror_mode": {
    "name": "ipython",
    "version": 3
   },
   "file_extension": ".py",
   "mimetype": "text/x-python",
   "name": "python",
   "nbconvert_exporter": "python",
   "pygments_lexer": "ipython3",
   "version": "3.13.2"
  }
 },
 "nbformat": 4,
 "nbformat_minor": 2
}
