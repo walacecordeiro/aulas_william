{
 "cells": [
  {
   "cell_type": "markdown",
   "metadata": {},
   "source": [
    "### A instrução break\n",
    "A instrução `break` sai imediatamente do laço de repetição mais interno, seja `for` ou `while`:"
   ]
  },
  {
   "cell_type": "code",
   "execution_count": null,
   "metadata": {},
   "outputs": [],
   "source": [
    "for n in range(2, 10):\n",
    "    for x in range(2, n): # no primeiro loop, n = 2, x = 2, então não existe indice no range(2, 2), ou seja, não entra no loop!!! Sempre que n for igual a x, não entra no loop.\n",
    "        if n % x == 0:\n",
    "            print(f\"{n} igual a {x} * {n//x}\") # se o resto da divisão de n por x for igual a 0, então imprime a mensagem.\n",
    "            break # Volta para o loop anterior caso exista, do contrário, simplesmente para o loop."
   ]
  },
  {
   "cell_type": "markdown",
   "metadata": {},
   "source": [
    "### A instrução continue\n",
    "A instrução `continue` volta para a próxima iteração do laço de repetição."
   ]
  },
  {
   "cell_type": "code",
   "execution_count": null,
   "metadata": {},
   "outputs": [],
   "source": [
    "for num in range(2, 10):\n",
    "    if num % 2 == 0:\n",
    "        print(f\"Encontrado um número par: {num}\")\n",
    "        continue # Quando chegar no continue, ele volta para o início do loop atual e continua a iteração de onde parou.\n",
    "    print(f\"Encontrado um número ímpar: {num}\")"
   ]
  },
  {
   "cell_type": "markdown",
   "metadata": {},
   "source": [
    "### Modificar uma coleção\n",
    "Modificar uma coleção `{}` diretamente <span style=\"color: red;\">não é seguro</span>, então é indicado criar uma cópia ou criar uma nova coleção"
   ]
  },
  {
   "cell_type": "code",
   "execution_count": null,
   "metadata": {},
   "outputs": [],
   "source": [
    "usuarios = {'walace':'ativo', 'denis':'inativo', 'marcos':'ativo', 'marcelo':'inativo'}\n",
    "\n",
    "# Neste caso o loop itera pela cópia e deleta na coleção original.\n",
    "for user, status in usuarios.copy().items():\n",
    "    if status == 'inativo':\n",
    "        del usuarios[user]\n",
    "\n",
    "print(usuarios)\n",
    "\n",
    "# Neste caso é criada uma nova coleção, o loop itera diretamente nos itens da coleção, depois adiciona com base na condição os itens a nova coleção.\n",
    "usuarios_ativos = {}\n",
    "for user, status in usuarios.items():\n",
    "    if status == 'ativo':\n",
    "        usuarios_ativos[user] = status\n",
    "\n",
    "print(usuarios_ativos)"
   ]
  }
 ],
 "metadata": {
  "kernelspec": {
   "display_name": "Python 3.10.5 64-bit",
   "language": "python",
   "name": "python3"
  },
  "language_info": {
   "codemirror_mode": {
    "name": "ipython",
    "version": 3
   },
   "file_extension": ".py",
   "mimetype": "text/x-python",
   "name": "python",
   "nbconvert_exporter": "python",
   "pygments_lexer": "ipython3",
   "version": "3.10.5"
  },
  "orig_nbformat": 4,
  "vscode": {
   "interpreter": {
    "hash": "369f2c481f4da34e4445cda3fffd2e751bd1c4d706f27375911949ba6bb62e1c"
   }
  }
 },
 "nbformat": 4,
 "nbformat_minor": 2
}
