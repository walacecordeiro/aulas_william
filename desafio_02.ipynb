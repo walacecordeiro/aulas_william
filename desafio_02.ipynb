{
 "cells": [
  {
   "cell_type": "markdown",
   "metadata": {},
   "source": [
    "### Desafio\n",
    "Crie um programa que calcule o valor do frete com base na distância:\n",
    "\n",
    "A nossa pizzaria está cobrando uma taxa fixa de R$5 por entrega, além de R$1 por km até 5km, e R$2 por km até 10km. Mais ainda, não entregamos com a distância superior a 10km.\n",
    "\n",
    "Pegando como base essas possibilidades, faça um programa que responda as seguintes perguntas:\n",
    "\n",
    "- Quanto Joana irá pagar de frete, sendo que mora a 8km da pizzaria.\n",
    "- Quanto Guilherme irá pagar de frete, sendo que mora a 3km da pizzaria.\n",
    "- Quanto Rafael irá pagar de frete, sendo que mora a 11km da pizzaria."
   ]
  },
  {
   "cell_type": "markdown",
   "metadata": {},
   "source": [
    "### Variáveis"
   ]
  },
  {
   "cell_type": "code",
   "execution_count": 1,
   "metadata": {},
   "outputs": [],
   "source": [
    "clientes = [\n",
    "    (\"Joana\", 8),\n",
    "    (\"Guilherme\", 3),\n",
    "    (\"Rafael\", 11),\n",
    "]\n",
    "\n",
    "distancia_cliente = 8\n",
    "\n",
    "taxa_fixa = 5\n",
    "\n",
    "ate_5km = 1\n",
    "ate_10km = 2    "
   ]
  },
  {
   "cell_type": "markdown",
   "metadata": {},
   "source": [
    "### Caso 01"
   ]
  },
  {
   "cell_type": "code",
   "execution_count": 2,
   "metadata": {},
   "outputs": [
    {
     "name": "stdout",
     "output_type": "stream",
     "text": [
      "Joana pagará R$21.00\n"
     ]
    }
   ],
   "source": [
    "if distancia_cliente <= 5:\n",
    "    valor_pagar = taxa_fixa + distancia_cliente * ate_5km\n",
    "    print(f\"Joana pagará R${valor_pagar:.2f}\")\n",
    "elif distancia_cliente <= 10:\n",
    "    valor_pagar = taxa_fixa + distancia_cliente * ate_10km\n",
    "    print(f\"Joana pagará R${valor_pagar:.2f}\")\n",
    "else:\n",
    "    print(\"Não entregamos para essa distância\")"
   ]
  },
  {
   "cell_type": "code",
   "execution_count": 3,
   "metadata": {},
   "outputs": [
    {
     "name": "stdout",
     "output_type": "stream",
     "text": [
      "Joana pagará R$21.00\n",
      "Guilherme pagará R$8.00\n",
      "Desculpe Rafael, não entregamos para essa distância\n"
     ]
    }
   ],
   "source": [
    "for cliente, distancia in clientes:\n",
    "    if distancia <= 5:\n",
    "        valor_pagar = taxa_fixa + distancia * ate_5km\n",
    "        print(f\"{cliente} pagará R${valor_pagar:.2f}\")\n",
    "    elif distancia <= 10:\n",
    "        valor_pagar = taxa_fixa + distancia * ate_10km\n",
    "        print(f\"{cliente} pagará R${valor_pagar:.2f}\")\n",
    "    else:\n",
    "        print(f\"Desculpe {cliente}, não entregamos para essa distância\")"
   ]
  }
 ],
 "metadata": {
  "kernelspec": {
   "display_name": "Python 3",
   "language": "python",
   "name": "python3"
  },
  "language_info": {
   "codemirror_mode": {
    "name": "ipython",
    "version": 3
   },
   "file_extension": ".py",
   "mimetype": "text/x-python",
   "name": "python",
   "nbconvert_exporter": "python",
   "pygments_lexer": "ipython3",
   "version": "3.11.4"
  },
  "orig_nbformat": 4
 },
 "nbformat": 4,
 "nbformat_minor": 2
}
