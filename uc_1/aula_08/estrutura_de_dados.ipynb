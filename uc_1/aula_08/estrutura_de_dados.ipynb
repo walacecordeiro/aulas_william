{
 "cells": [
  {
   "cell_type": "markdown",
   "metadata": {},
   "source": [
    "### ESTRUTURA DE DADOS\n",
    "\n",
    "#### listas\n",
    "\n",
    "- Homogênea -> Aceita apenas dados de um único tipo\n",
    "- Heterogênea -> Aceita dados de tipos diferentes\n",
    "- As estruturas de dados são declaradas com o case snake_case\n",
    "- list -> Ordenada, mutável e heterogênea\n",
    "\n",
    "exemplo de como adicionar código no MD.\n",
    "```py\n",
    "exemplo_codigo = [\"mussarela\", \"calabresa\", \"frango com catupiry\", \"portuguesa\"]\n",
    "```\n"
   ]
  },
  {
   "cell_type": "code",
   "execution_count": 13,
   "metadata": {},
   "outputs": [],
   "source": [
    "\"\"\"\n",
    "Este aqui é um exemplo de comentário para ser usado quando for preciso documentar algum raciocínio fora do código.\n",
    "\"\"\"\n",
    "\n",
    "sabores = [\"mussarela\", \"calabresa\", \"frango com catupiry\", \"portuguesa\"]\n",
    "\n",
    "dados_pizza = [\"mussarela\", 26.90, sabores]\n",
    "\n",
    "# Declaração de tuplas ()\n",
    "tamanhos = (\"pequena\", \"média\", \"grande\")"
   ]
  },
  {
   "cell_type": "code",
   "execution_count": 14,
   "metadata": {},
   "outputs": [
    {
     "name": "stdout",
     "output_type": "stream",
     "text": [
      "Sabores disponíveis: ['mussarela', 'calabresa', 'frango com catupiry', 'portuguesa']\n",
      "Informações da piza: ['mussarela', 26.9, ['mussarela', 'calabresa', 'frango com catupiry', 'portuguesa']]\n"
     ]
    }
   ],
   "source": [
    "# print() -> É um método, todo método termina com ()\n",
    "print(f\"Sabores disponíveis: {sabores}\")\n",
    "print(f\"Informações da piza: {dados_pizza}\")"
   ]
  },
  {
   "cell_type": "code",
   "execution_count": 15,
   "metadata": {},
   "outputs": [
    {
     "name": "stdout",
     "output_type": "stream",
     "text": [
      "Sabores disponíveis: ['mussarela', 'calabresa', 'frango com catupiry', 'portuguesa', 'margherita']\n"
     ]
    }
   ],
   "source": [
    "# append() -> Adiciona um elemento a lista.\n",
    "sabores.append(\"margherita\")\n",
    "print(f\"Sabores disponíveis: {sabores}\")"
   ]
  },
  {
   "cell_type": "code",
   "execution_count": 16,
   "metadata": {},
   "outputs": [
    {
     "name": "stdout",
     "output_type": "stream",
     "text": [
      "Sabores disponíveis: ['mussarela', 'frango com catupiry', 'portuguesa', 'margherita']\n"
     ]
    }
   ],
   "source": [
    "# remove() -> Remove um elemento da lista.\n",
    "sabores.remove(\"calabresa\")\n",
    "print(f\"Sabores disponíveis: {sabores}\")"
   ]
  },
  {
   "cell_type": "code",
   "execution_count": 17,
   "metadata": {},
   "outputs": [
    {
     "name": "stdout",
     "output_type": "stream",
     "text": [
      "mussarela\n",
      "frango com catupiry\n",
      "portuguesa\n",
      "margherita\n"
     ]
    }
   ],
   "source": [
    "# Acessando itens:\n",
    "print(sabores[0])\n",
    "print(sabores[1])\n",
    "print(sabores[2])\n",
    "print(sabores[-1])"
   ]
  },
  {
   "cell_type": "markdown",
   "metadata": {},
   "source": [
    "### Tuplas ()"
   ]
  },
  {
   "cell_type": "code",
   "execution_count": 18,
   "metadata": {},
   "outputs": [
    {
     "name": "stdout",
     "output_type": "stream",
     "text": [
      "Tamanhos disponíveis: ('pequena', 'média', 'grande')\n"
     ]
    }
   ],
   "source": [
    "# Printando a tupla ():\n",
    "print(f\"Tamanhos disponíveis: {tamanhos}\")"
   ]
  },
  {
   "cell_type": "code",
   "execution_count": 19,
   "metadata": {},
   "outputs": [
    {
     "name": "stdout",
     "output_type": "stream",
     "text": [
      "Tamanho: grande\n"
     ]
    }
   ],
   "source": [
    "# Operação com tuplas:\n",
    "print(f\"Tamanho: {tamanhos[-1]}\")"
   ]
  },
  {
   "cell_type": "code",
   "execution_count": 28,
   "metadata": {},
   "outputs": [
    {
     "name": "stdout",
     "output_type": "stream",
     "text": [
      "True\n",
      "Existe\n"
     ]
    }
   ],
   "source": [
    "# Verificar itens:\n",
    "print(\"grande\" in tamanhos)\n",
    "\n",
    "# Alterando o resultado para mais humanizado\n",
    "print(f\"Existe\" if \"grande\" in tamanhos else \"Não existe\")"
   ]
  }
 ],
 "metadata": {
  "kernelspec": {
   "display_name": "Python 3",
   "language": "python",
   "name": "python3"
  },
  "language_info": {
   "name": "python",
   "version": "3.11.4"
  },
  "orig_nbformat": 4
 },
 "nbformat": 4,
 "nbformat_minor": 2
}
