{
 "cells": [
  {
   "cell_type": "markdown",
   "metadata": {},
   "source": [
    "### Variáveis\n"
   ]
  },
  {
   "cell_type": "code",
   "execution_count": 13,
   "metadata": {},
   "outputs": [],
   "source": [
    "# Motoboy disponível?\n",
    "motoboys_disponiveis = True\n",
    "# Distãncia do cliente\n",
    "distancia_cliente = 8"
   ]
  },
  {
   "cell_type": "markdown",
   "metadata": {},
   "source": [
    "### Caso 01\n",
    "Verificar se a entrega pode ser feita com base na distãncia e se há motoboys disponíveis."
   ]
  },
  {
   "cell_type": "code",
   "execution_count": 14,
   "metadata": {},
   "outputs": [
    {
     "name": "stdout",
     "output_type": "stream",
     "text": [
      "Entrega pode ser realizada\n"
     ]
    }
   ],
   "source": [
    "if distancia_cliente <= 10 and motoboys_disponiveis == True:\n",
    "    print(\"Entrega pode ser realizada\")\n",
    "else:\n",
    "    print(\"Entrega não pode ser feita!\")"
   ]
  },
  {
   "cell_type": "markdown",
   "metadata": {},
   "source": [
    "### Caso 01 lógica alternativa (condicional aninhada)\n",
    "É extremamente importante analisar todas as possibilidades sempre! No primeiro caso, todoas as possibilidades não foram exploradas."
   ]
  },
  {
   "cell_type": "code",
   "execution_count": 15,
   "metadata": {},
   "outputs": [
    {
     "name": "stdout",
     "output_type": "stream",
     "text": [
      "Entrega confirmada! Motoboy está a caminho\n"
     ]
    }
   ],
   "source": [
    "if distancia_cliente <= 10:\n",
    "    if motoboys_disponiveis:\n",
    "        print(\"Entrega confirmada! Motoboy está a caminho\")\n",
    "    else:\n",
    "        print(\"Infelizmente, estamos sem motoboys disponíveis\")\n",
    "else:\n",
    "    print(\"Desculpe, não entregamos para a sua localidade\")"
   ]
  }
 ],
 "metadata": {
  "kernelspec": {
   "display_name": "Python 3",
   "language": "python",
   "name": "python3"
  },
  "language_info": {
   "codemirror_mode": {
    "name": "ipython",
    "version": 3
   },
   "file_extension": ".py",
   "mimetype": "text/x-python",
   "name": "python",
   "nbconvert_exporter": "python",
   "pygments_lexer": "ipython3",
   "version": "3.11.4"
  },
  "orig_nbformat": 4
 },
 "nbformat": 4,
 "nbformat_minor": 2
}
