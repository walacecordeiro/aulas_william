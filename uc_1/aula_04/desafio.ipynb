{
 "cells": [
  {
   "cell_type": "markdown",
   "metadata": {},
   "source": [
    "### Desafio\n",
    "Crie um programa que calcule o valor do frete com base na distância:\n",
    "Até 5km, R$5\n",
    "De 6km até 10km, R$10\n",
    "Acima de 10km, exibir que a entrega não é feita."
   ]
  },
  {
   "cell_type": "markdown",
   "metadata": {},
   "source": [
    "### Variáveis"
   ]
  },
  {
   "cell_type": "code",
   "execution_count": 18,
   "metadata": {},
   "outputs": [],
   "source": [
    "distancia_cliente = 5\n",
    "\n",
    "frete_5km = 5\n",
    "frete_10km = 10    "
   ]
  },
  {
   "cell_type": "markdown",
   "metadata": {},
   "source": [
    "### Caso 01"
   ]
  },
  {
   "cell_type": "code",
   "execution_count": 19,
   "metadata": {},
   "outputs": [
    {
     "name": "stdout",
     "output_type": "stream",
     "text": [
      "Frete R$5\n"
     ]
    }
   ],
   "source": [
    "if distancia_cliente <= 5:\n",
    "    print(f\"Frete R${frete_5km}\")\n",
    "elif distancia_cliente <= 10:\n",
    "    print(f\"Frete R${frete_10km}\")\n",
    "else:\n",
    "    print(f\"Não entregamos nessa distância\")"
   ]
  }
 ],
 "metadata": {
  "kernelspec": {
   "display_name": "Python 3",
   "language": "python",
   "name": "python3"
  },
  "language_info": {
   "codemirror_mode": {
    "name": "ipython",
    "version": 3
   },
   "file_extension": ".py",
   "mimetype": "text/x-python",
   "name": "python",
   "nbconvert_exporter": "python",
   "pygments_lexer": "ipython3",
   "version": "3.11.4"
  },
  "orig_nbformat": 4
 },
 "nbformat": 4,
 "nbformat_minor": 2
}
