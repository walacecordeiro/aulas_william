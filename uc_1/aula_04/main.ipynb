{
 "cells": [
  {
   "cell_type": "markdown",
   "metadata": {},
   "source": [
    "### Variáveis\n"
   ]
  },
  {
   "cell_type": "code",
   "execution_count": 21,
   "metadata": {},
   "outputs": [],
   "source": [
    "# Pizzaria Sabores\n",
    "\n",
    "# Sabores\n",
    "pizza_calabresa = \"calabresa\"\n",
    "pizza_frango = \"frango\"\n",
    "pizza_queijo = \"queijo\"\n",
    "\n",
    "# Preços\n",
    "pizza_pequena = 10\n",
    "pizza_media = 15\n",
    "pizza_grande = 20\n",
    "\n",
    "# Cliente\n",
    "NOME_CLIENTE = \"jose\"\n",
    "\n",
    "# Distância\n",
    "distancia_cliente = 8 # quilometros\n",
    "\n",
    "# Estoque\n",
    "estoque = 10"
   ]
  },
  {
   "cell_type": "markdown",
   "metadata": {},
   "source": [
    "### Caso 01\n"
   ]
  },
  {
   "cell_type": "code",
   "execution_count": 22,
   "metadata": {},
   "outputs": [
    {
     "name": "stdout",
     "output_type": "stream",
     "text": [
      "Pedido aceito! Temos pizzas disponíveis\n"
     ]
    }
   ],
   "source": [
    "if estoque > 0:\n",
    "    print(\"Pedido aceito! Temos pizzas disponíveis\")\n",
    "else:\n",
    "    print(\"Desculpe, estamos sem esse sabor no momento.\")"
   ]
  },
  {
   "cell_type": "markdown",
   "metadata": {},
   "source": [
    "### Caso 02"
   ]
  },
  {
   "cell_type": "code",
   "execution_count": 23,
   "metadata": {},
   "outputs": [
    {
     "name": "stdout",
     "output_type": "stream",
     "text": [
      "Pedido realizado, entrega em 40 mintutos\n"
     ]
    }
   ],
   "source": [
    "if distancia_cliente <= 5:\n",
    "    print(\"Pedido realizado, entrega em 20 minutos\")\n",
    "elif distancia_cliente > 5 and distancia_cliente <= 10:\n",
    "    print(\"Pedido realizado, entrega em 40 mintutos\")\n",
    "else:\n",
    "    print(\"Não entregamos nessa região\")"
   ]
  },
  {
   "cell_type": "markdown",
   "metadata": {},
   "source": [
    "### Caso 02, versão lógica alternativa."
   ]
  },
  {
   "cell_type": "code",
   "execution_count": 24,
   "metadata": {},
   "outputs": [
    {
     "name": "stdout",
     "output_type": "stream",
     "text": [
      "Pedido realizado, entrega em 40 mintutos\n"
     ]
    }
   ],
   "source": [
    "if distancia_cliente <= 5:\n",
    "    print(\"Pedido realizado, entrega em 20 minutos\")\n",
    "elif distancia_cliente <= 10:\n",
    "    print(\"Pedido realizado, entrega em 40 mintutos\")\n",
    "else:\n",
    "    print(\"Não entregamos nessa região\")"
   ]
  },
  {
   "cell_type": "markdown",
   "metadata": {},
   "source": [
    "### Códigos a parte\n"
   ]
  },
  {
   "cell_type": "code",
   "execution_count": 25,
   "metadata": {},
   "outputs": [
    {
     "name": "stdout",
     "output_type": "stream",
     "text": [
      "Não pode dirigir\n"
     ]
    }
   ],
   "source": [
    "# idade\n",
    "idade = 16\n",
    "\n",
    "# possui carteira?\n",
    "possui_carteira = True\n",
    "\n",
    "if idade >= 18 and possui_carteira == True:\n",
    "    print(\"Pode dirigir\")\n",
    "else:\n",
    "    print(\"Não pode dirigir\")"
   ]
  }
 ],
 "metadata": {
  "kernelspec": {
   "display_name": "Python 3",
   "language": "python",
   "name": "python3"
  },
  "language_info": {
   "codemirror_mode": {
    "name": "ipython",
    "version": 3
   },
   "file_extension": ".py",
   "mimetype": "text/x-python",
   "name": "python",
   "nbconvert_exporter": "python",
   "pygments_lexer": "ipython3",
   "version": "3.11.4"
  },
  "orig_nbformat": 4
 },
 "nbformat": 4,
 "nbformat_minor": 2
}
