{
 "cells": [
  {
   "cell_type": "code",
   "execution_count": 8,
   "metadata": {},
   "outputs": [
    {
     "name": "stdout",
     "output_type": "stream",
     "text": [
      "\n",
      "  Nome do aluno: Armando\n",
      "  Cpf do aluno: 55588877766\n",
      "  Idade do aluno: 32\n",
      "  Matriculado ? True\n",
      "        \n",
      "\n",
      "  Nome do aluno: Armando\n",
      "  Cpf do aluno: 55588877766\n",
      "  Idade do aluno: 32\n",
      "  Matriculado ? False\n",
      "        \n"
     ]
    }
   ],
   "source": [
    "# aluno -> nome, cpf, idade - atributos\n",
    "# aluno -> matriculado (False ou True) - método\n",
    "# A classe vai ser o molde\n",
    "# O objeto vai ser a cópia\n",
    "\n",
    "class Aluno: # Padrão usado para criar classe é PascalCase.\n",
    " def __init__(self, nome, cpf, idade): # Inicializa atributos\n",
    "  self.nome = nome\n",
    "  self.cpf = cpf\n",
    "  self.idade = idade\n",
    "  self.matriculado = True\n",
    "  \n",
    " def situacao(self):\n",
    "  self.matriculado = False\n",
    "  \n",
    " def exibirInformacoes(self):\n",
    "  print(f'''\n",
    "  Nome do aluno: {self.nome}\n",
    "  Cpf do aluno: {self.cpf}\n",
    "  Idade do aluno: {self.idade}\n",
    "  Matriculado ? {self.matriculado}\n",
    "        ''')\n",
    "\n",
    "a1 = Aluno(\"Walace\", \"55588877754\", 28)\n",
    "a2 = Aluno(\"Armando\", \"55588877766\", 32)\n",
    "\n",
    "# a1.exibirInformacoes()\n",
    "a2.exibirInformacoes()\n",
    "\n",
    "a2.situacao()\n",
    "a2.exibirInformacoes()"
   ]
  }
 ],
 "metadata": {
  "kernelspec": {
   "display_name": "Python 3",
   "language": "python",
   "name": "python3"
  },
  "language_info": {
   "codemirror_mode": {
    "name": "ipython",
    "version": 3
   },
   "file_extension": ".py",
   "mimetype": "text/x-python",
   "name": "python",
   "nbconvert_exporter": "python",
   "pygments_lexer": "ipython3",
   "version": "3.11.4"
  },
  "orig_nbformat": 4
 },
 "nbformat": 4,
 "nbformat_minor": 2
}
