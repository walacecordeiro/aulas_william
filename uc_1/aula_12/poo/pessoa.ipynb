{
 "cells": [
  {
   "cell_type": "code",
   "execution_count": null,
   "metadata": {},
   "outputs": [],
   "source": [
    "# Entidades do sistema\n",
    "# Escola Saberes.\n",
    "# Funcionários, alunos, professores\n",
    "# Aluno <-> Turma <-> Professor\n",
    "# 1000 alunos, 20 professores, 30 funcionários.\n"
   ]
  }
 ],
 "metadata": {
  "language_info": {
   "name": "python"
  },
  "orig_nbformat": 4
 },
 "nbformat": 4,
 "nbformat_minor": 2
}
