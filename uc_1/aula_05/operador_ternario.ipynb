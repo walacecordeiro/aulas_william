{
 "cells": [
  {
   "cell_type": "markdown",
   "metadata": {},
   "source": [
    "### Forma normal"
   ]
  },
  {
   "cell_type": "code",
   "execution_count": 2,
   "metadata": {},
   "outputs": [
    {
     "name": "stdout",
     "output_type": "stream",
     "text": [
      "Maior de idade\n"
     ]
    }
   ],
   "source": [
    "idade = 18\n",
    "\n",
    "if idade >= 18:\n",
    "    print(\"Maior de idade\")\n",
    "else:\n",
    "    print(\"Menor de idade\")"
   ]
  },
  {
   "cell_type": "markdown",
   "metadata": {},
   "source": [
    "### Forma com operador ternário"
   ]
  },
  {
   "cell_type": "code",
   "execution_count": 4,
   "metadata": {},
   "outputs": [
    {
     "name": "stdout",
     "output_type": "stream",
     "text": [
      "Maior de idade\n"
     ]
    }
   ],
   "source": [
    "# variável para armazenar o valor = valor se verdadeiro / condição / valor se falso\n",
    "verificador = \"Maior de idade\" if idade >= 18 else \"Menor de idade\"\n",
    "\n",
    "print(verificador)"
   ]
  }
 ],
 "metadata": {
  "kernelspec": {
   "display_name": "Python 3",
   "language": "python",
   "name": "python3"
  },
  "language_info": {
   "codemirror_mode": {
    "name": "ipython",
    "version": 3
   },
   "file_extension": ".py",
   "mimetype": "text/x-python",
   "name": "python",
   "nbconvert_exporter": "python",
   "pygments_lexer": "ipython3",
   "version": "3.11.4"
  },
  "orig_nbformat": 4
 },
 "nbformat": 4,
 "nbformat_minor": 2
}
