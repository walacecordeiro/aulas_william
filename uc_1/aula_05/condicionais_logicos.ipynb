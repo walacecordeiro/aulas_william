{
 "cells": [
  {
   "cell_type": "markdown",
   "metadata": {},
   "source": [
    "### Caso\n",
    "- Verifique se a idade do usuário está entre 18 e 30 anos e se o salário é maior que 2000.\n",
    "- Se sim, informar que a \"Condição foi atendida\".\n",
    "- Se não, \"Condição não atendida\"."
   ]
  },
  {
   "cell_type": "markdown",
   "metadata": {},
   "source": [
    "### Variáveis"
   ]
  },
  {
   "cell_type": "code",
   "execution_count": 16,
   "metadata": {},
   "outputs": [],
   "source": [
    "idade_usuario = 16\n",
    "salario_usuario = 2500"
   ]
  },
  {
   "cell_type": "code",
   "execution_count": 18,
   "metadata": {},
   "outputs": [
    {
     "name": "stdout",
     "output_type": "stream",
     "text": [
      "Condição não atendida\n"
     ]
    }
   ],
   "source": [
    "if 18 <= idade_usuario <= 30 and salario_usuario > 2000:\n",
    "    print(\"Condição atendida\")\n",
    "else:\n",
    "    print(\"Condição não atendida\")"
   ]
  }
 ],
 "metadata": {
  "kernelspec": {
   "display_name": "Python 3",
   "language": "python",
   "name": "python3"
  },
  "language_info": {
   "codemirror_mode": {
    "name": "ipython",
    "version": 3
   },
   "file_extension": ".py",
   "mimetype": "text/x-python",
   "name": "python",
   "nbconvert_exporter": "python",
   "pygments_lexer": "ipython3",
   "version": "3.11.4"
  },
  "orig_nbformat": 4
 },
 "nbformat": 4,
 "nbformat_minor": 2
}
