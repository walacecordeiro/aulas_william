{
 "cells": [
  {
   "cell_type": "markdown",
   "metadata": {},
   "source": [
    "### Variáveis"
   ]
  },
  {
   "cell_type": "code",
   "execution_count": 5,
   "metadata": {},
   "outputs": [
    {
     "name": "stdout",
     "output_type": "stream",
     "text": [
      "Você possui desconto. O desconto é de R$26.00\n"
     ]
    }
   ],
   "source": [
    "# total da conta 120\n",
    "# quer saber se tem desconto\n",
    "# > 50 - 10%\n",
    "# > 100 - 20%\n",
    "\n",
    "valor_pedido = 130 # altere para testar\n",
    "\n",
    "if valor_pedido > 100:\n",
    "    desconto = valor_pedido * 20/100\n",
    "    print(f\"Você possui desconto. O desconto é de R${desconto:.2f}\")\n",
    "    # pass # Usado para informar ao programa que depois voltamos para continuar\n",
    "elif valor_pedido > 50:\n",
    "    desconto = valor_pedido * 10/100\n",
    "    print(f\"Você possui desconto. O desconto é de R${desconto:.2f}\")\n",
    "    # pass # Usado para informar ao programa que depois voltamos para continuar\n",
    "else:\n",
    "    print(\"Sem desconto disponível para este valor!\")"
   ]
  }
 ],
 "metadata": {
  "kernelspec": {
   "display_name": "Python 3",
   "language": "python",
   "name": "python3"
  },
  "language_info": {
   "codemirror_mode": {
    "name": "ipython",
    "version": 3
   },
   "file_extension": ".py",
   "mimetype": "text/x-python",
   "name": "python",
   "nbconvert_exporter": "python",
   "pygments_lexer": "ipython3",
   "version": "3.11.4"
  },
  "orig_nbformat": 4
 },
 "nbformat": 4,
 "nbformat_minor": 2
}
