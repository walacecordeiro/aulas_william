{
 "cells": [
  {
   "cell_type": "code",
   "execution_count": 1,
   "metadata": {},
   "outputs": [],
   "source": [
    "pedido = \"calabresa\""
   ]
  },
  {
   "cell_type": "code",
   "execution_count": 2,
   "metadata": {},
   "outputs": [
    {
     "name": "stdout",
     "output_type": "stream",
     "text": [
      "O preço da pizza de calabresa é de R$27,90\n"
     ]
    }
   ],
   "source": [
    "match pedido:\n",
    "    case \"mussarela\":\n",
    "        print(\"O preço da pizza de mussarela é de R$25,90\")\n",
    "    case \"calabresa\":\n",
    "        print(\"O preço da pizza de calabresa é de R$27,90\")\n",
    "    case \"frango com catupiry\":\n",
    "        print(\"O preço da pizza de frango com catupiry é de R$29,90\")\n",
    "    case _:\n",
    "        print(\"Desculpe, não temos esse sabor no cardápio.\")"
   ]
  }
 ],
 "metadata": {
  "kernelspec": {
   "display_name": "Python 3.10.5 64-bit",
   "language": "python",
   "name": "python3"
  },
  "language_info": {
   "codemirror_mode": {
    "name": "ipython",
    "version": 3
   },
   "file_extension": ".py",
   "mimetype": "text/x-python",
   "name": "python",
   "nbconvert_exporter": "python",
   "pygments_lexer": "ipython3",
   "version": "3.11.4"
  },
  "orig_nbformat": 4,
  "vscode": {
   "interpreter": {
    "hash": "369f2c481f4da34e4445cda3fffd2e751bd1c4d706f27375911949ba6bb62e1c"
   }
  }
 },
 "nbformat": 4,
 "nbformat_minor": 2
}
