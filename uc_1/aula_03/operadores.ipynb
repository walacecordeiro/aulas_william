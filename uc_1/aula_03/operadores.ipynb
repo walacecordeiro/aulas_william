{
 "cells": [
  {
   "cell_type": "markdown",
   "metadata": {},
   "source": [
    "### Variáveis"
   ]
  },
  {
   "cell_type": "code",
   "execution_count": 1,
   "metadata": {},
   "outputs": [],
   "source": [
    "numero_vinte = 20\n",
    "numero_oito = 8"
   ]
  },
  {
   "cell_type": "markdown",
   "metadata": {},
   "source": [
    "### Operadores básicos\n"
   ]
  },
  {
   "cell_type": "code",
   "execution_count": 3,
   "metadata": {},
   "outputs": [
    {
     "name": "stdout",
     "output_type": "stream",
     "text": [
      "28\n",
      "12\n",
      "160\n",
      "2.5\n"
     ]
    }
   ],
   "source": [
    "print(numero_vinte + numero_oito) # soma\n",
    "print(numero_vinte - numero_oito) # subtração\n",
    "print(numero_vinte * numero_oito) # multiplicação\n",
    "print(numero_vinte / numero_oito) # divisão"
   ]
  },
  {
   "cell_type": "markdown",
   "metadata": {},
   "source": [
    "### Operadores avançados"
   ]
  },
  {
   "cell_type": "code",
   "execution_count": 4,
   "metadata": {},
   "outputs": [
    {
     "name": "stdout",
     "output_type": "stream",
     "text": [
      "2\n",
      "4\n"
     ]
    }
   ],
   "source": [
    "print(numero_vinte // numero_oito) # Divisão inteira\n",
    "print(numero_vinte % numero_oito) # Resto da divisão\n",
    "print(numero_vinte ** numero_oito)  # Potência"
   ]
  },
  {
   "cell_type": "markdown",
   "metadata": {},
   "source": [
    "### Precedência de operadores\n",
    "A ordem das operações segue as regras matemáticas: parênteses, exponenciação, multiplicação/divisão, e adição/subtração.\n"
   ]
  },
  {
   "cell_type": "code",
   "execution_count": 6,
   "metadata": {},
   "outputs": [
    {
     "data": {
      "text/plain": [
       "52"
      ]
     },
     "execution_count": 6,
     "metadata": {},
     "output_type": "execute_result"
    }
   ],
   "source": [
    "print(numero_vinte + numero_oito * 4) # a precedência é a mesma da matemática, a multiplicação é feita antes da soma neste caso\n",
    "print(numero_vinte + numero_oito / 4) # a precedência é a mesma da matemática, a divisão é feita antes da soma neste caso"
   ]
  }
 ],
 "metadata": {
  "kernelspec": {
   "display_name": "Python 3",
   "language": "python",
   "name": "python3"
  },
  "language_info": {
   "codemirror_mode": {
    "name": "ipython",
    "version": 3
   },
   "file_extension": ".py",
   "mimetype": "text/x-python",
   "name": "python",
   "nbconvert_exporter": "python",
   "pygments_lexer": "ipython3",
   "version": "3.11.4"
  },
  "orig_nbformat": 4
 },
 "nbformat": 4,
 "nbformat_minor": 2
}
