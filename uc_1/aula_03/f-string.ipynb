{
 "cells": [
  {
   "cell_type": "markdown",
   "metadata": {},
   "source": [
    "### Variáveis"
   ]
  },
  {
   "cell_type": "code",
   "execution_count": 4,
   "metadata": {},
   "outputs": [],
   "source": [
    "nome_do_usuario = \"Walace Cordeiro dos Santos\" # string\n",
    "idade_do_usuario = 28 # inteiro\n",
    "cidade_do_usuario = \"Rio de Janeiro\" # string\n",
    "CPF_DO_USUARIO = \"22255522269\" # variável em caixa alta, por convenção, é uma constante, ou seja, não deve ser alterada.\n",
    "\n",
    "mensagem = f'''Olá, meu nome é {nome_do_usuario},\n",
    "        tenho {idade_do_usuario} anos \n",
    "        e moro no {cidade_do_usuario}.'''# f-string com aspas triplas para strings multilinhas."
   ]
  },
  {
   "cell_type": "markdown",
   "metadata": {},
   "source": [
    "### Metodo print()\n",
    "formas de concatenar strings com variáveis em Python"
   ]
  },
  {
   "cell_type": "code",
   "execution_count": 5,
   "metadata": {},
   "outputs": [
    {
     "name": "stdout",
     "output_type": "stream",
     "text": [
      "Olá, meu nome é Walace Cordeiro dos Santos tenho 28 anos e moro no Rio de Janeiro .\n",
      "Olá, meu nome é Walace Cordeiro dos Santos tenho 28 anos e moro no Rio de Janeiro.\n",
      "Olá, meu nome é Walace Cordeiro dos Santos, tenho 28 anos e moro no Rio de Janeiro.\n",
      "Olá, meu nome é Walace Cordeiro dos Santos,\n",
      "        tenho 28 anos \n",
      "        e moro no Rio de Janeiro.\n",
      "22255522269\n"
     ]
    }
   ],
   "source": [
    "# 1 - Concatenação simples com o operador , (vírgula) entre as variáveis e strings. ela acrescenta um espaço entre as variáveis e strings.\n",
    "print(\"Olá, meu nome é\",nome_do_usuario,\"tenho\",idade_do_usuario,\"anos e moro no\", cidade_do_usuario, \".\")\n",
    "\n",
    "# 2 - Concatenação com o operador + entre as variáveis e strings. Ela não acrescenta espaço entre as variáveis e strings. str() é uma função que converte um número em string.\n",
    "print(\"Olá, meu nome é \" + nome_do_usuario + \" tenho \" + str(idade_do_usuario) + \" anos e moro no \" + cidade_do_usuario + \".\")\n",
    "\n",
    "# 3 - Concatenação com f-string. Ela é a forma mais moderna e recomendada de concatenar strings com variáveis em Python. funciona da seguinte forma: f\"texto {variável} texto\"\n",
    "print(f\"Olá, meu nome é {nome_do_usuario}, tenho {idade_do_usuario} anos e moro no {cidade_do_usuario}.\")\n",
    "\n",
    "# 4 - Chamar a variável que trata a string com aspas triplas.\n",
    "print(mensagem)\n",
    "\n",
    "# 5 - Chamando a variável CPF_DO_USUARIO\n",
    "print(CPF_DO_USUARIO)"
   ]
  }
 ],
 "metadata": {
  "kernelspec": {
   "display_name": "Python 3",
   "language": "python",
   "name": "python3"
  },
  "language_info": {
   "codemirror_mode": {
    "name": "ipython",
    "version": 3
   },
   "file_extension": ".py",
   "mimetype": "text/x-python",
   "name": "python",
   "nbconvert_exporter": "python",
   "pygments_lexer": "ipython3",
   "version": "3.11.4"
  },
  "orig_nbformat": 4
 },
 "nbformat": 4,
 "nbformat_minor": 2
}
