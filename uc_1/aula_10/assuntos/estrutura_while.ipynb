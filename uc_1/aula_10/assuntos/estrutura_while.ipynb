{
 "cells": [
  {
   "cell_type": "code",
   "execution_count": 7,
   "metadata": {},
   "outputs": [
    {
     "name": "stdout",
     "output_type": "stream",
     "text": [
      "Digite sair para encerrar seu pedido\n",
      "Mussarela adicionado ao seu pedido!\n",
      "Pedido encerrado!\n",
      "Você saiu do sistema!\n"
     ]
    }
   ],
   "source": [
    "sabores = [\"Mussarela\", \"Calabresa\", \"Peperoni\", \"Quatro queijos\", \"Frango com catupiry\"]\n",
    "print(\"Digite sair para encerrar seu pedido\")\n",
    "\n",
    "pedido = \"\"\n",
    "\n",
    "while pedido.lower() != \"sair\":\n",
    " pedido = input(\"Escolha um sabor: \").capitalize()\n",
    " if pedido in sabores:\n",
    "  print(f\"{pedido} adicionado ao seu pedido!\")\n",
    " elif pedido.lower() == \"sair\":\n",
    "  print(\"Pedido encerrado!\")\n",
    " else:\n",
    "  print(\"Esse sabor não está no cardápio\")\n",
    "print(\"Você saiu do sistema!\")\n",
    "  \n",
    " "
   ]
  }
 ],
 "metadata": {
  "kernelspec": {
   "display_name": "Python 3",
   "language": "python",
   "name": "python3"
  },
  "language_info": {
   "codemirror_mode": {
    "name": "ipython",
    "version": 3
   },
   "file_extension": ".py",
   "mimetype": "text/x-python",
   "name": "python",
   "nbconvert_exporter": "python",
   "pygments_lexer": "ipython3",
   "version": "3.11.4"
  },
  "orig_nbformat": 4
 },
 "nbformat": 4,
 "nbformat_minor": 2
}
