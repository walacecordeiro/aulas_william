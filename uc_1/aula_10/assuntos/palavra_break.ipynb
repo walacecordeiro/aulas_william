{
 "cells": [
  {
   "cell_type": "markdown",
   "metadata": {},
   "source": [
    "### Variáveis"
   ]
  },
  {
   "cell_type": "code",
   "execution_count": 3,
   "metadata": {},
   "outputs": [],
   "source": [
    "clientes = [\"João\", \"Maria\", \"Carlos\", \"Ana\", \"Pedro\"]"
   ]
  },
  {
   "cell_type": "code",
   "execution_count": 7,
   "metadata": {},
   "outputs": [
    {
     "name": "stdout",
     "output_type": "stream",
     "text": [
      "👥 Atendendo cliente: \n",
      "🍕 Atendendo João...\n",
      "🍕 Atendendo Maria...\n",
      "🍕 Atendendo Carlos...\n",
      "🛑 Capacidade máxima atingida! Não podemos atender mais clientes agora.\n"
     ]
    }
   ],
   "source": [
    "print(\"👥 Atendendo cliente: \")\n",
    "for i, cliente in enumerate(clientes):\n",
    " if i == 3:\n",
    "  print(\"🛑 Capacidade máxima atingida! Não podemos atender mais clientes agora.\")\n",
    "  break\n",
    " print(f\"🍕 Atendendo {cliente}...\")"
   ]
  }
 ],
 "metadata": {
  "kernelspec": {
   "display_name": "Python 3",
   "language": "python",
   "name": "python3"
  },
  "language_info": {
   "codemirror_mode": {
    "name": "ipython",
    "version": 3
   },
   "file_extension": ".py",
   "mimetype": "text/x-python",
   "name": "python",
   "nbconvert_exporter": "python",
   "pygments_lexer": "ipython3",
   "version": "3.11.4"
  },
  "orig_nbformat": 4
 },
 "nbformat": 4,
 "nbformat_minor": 2
}
