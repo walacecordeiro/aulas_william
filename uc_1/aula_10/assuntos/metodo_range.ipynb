{
 "cells": [
  {
   "cell_type": "code",
   "execution_count": 7,
   "metadata": {},
   "outputs": [
    {
     "name": "stdout",
     "output_type": "stream",
     "text": [
      "Preparando sua pizza...\n",
      "1 minuto se passou\n",
      "2 minutos se parraram\n",
      "3 minutos se parraram\n",
      "4 minutos se parraram\n",
      "5 minutos se parraram\n",
      "Sua pizza está pronta! Bom apetite!\n"
     ]
    }
   ],
   "source": [
    "print(\"Preparando sua pizza...\")\n",
    "\n",
    "for minuto in range(1,6):\n",
    " print(f\"{minuto} minuto se passou\" if minuto <= 1 else f\"{minuto} minutos se parraram\")\n",
    " \n",
    "print(\"Sua pizza está pronta! Bom apetite!\")"
   ]
  }
 ],
 "metadata": {
  "kernelspec": {
   "display_name": "Python 3",
   "language": "python",
   "name": "python3"
  },
  "language_info": {
   "codemirror_mode": {
    "name": "ipython",
    "version": 3
   },
   "file_extension": ".py",
   "mimetype": "text/x-python",
   "name": "python",
   "nbconvert_exporter": "python",
   "pygments_lexer": "ipython3",
   "version": "3.11.4"
  },
  "orig_nbformat": 4
 },
 "nbformat": 4,
 "nbformat_minor": 2
}
