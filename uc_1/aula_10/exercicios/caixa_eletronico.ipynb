{
 "cells": [
  {
   "cell_type": "markdown",
   "metadata": {},
   "source": [
    "### **Caixa Eletrônico 💰**\n",
    "\n",
    "💡 **Enunciado**:\n",
    "\n",
    "Crie um programa que simule um caixa eletrônico. O usuário deve poder sacar valores até que o saldo disponível acabe ou até que ele digite \"sair\".\n",
    "\n",
    "📝 **Regras:**\n",
    "\n",
    "- Comece com um saldo inicial de R$ 500.\n",
    "- Peça para o usuário digitar um valor para saque.\n",
    "- Se o valor for maior que o saldo, avise que não há saldo suficiente.\n",
    "- Se o usuário digitar \"sair\", encerre o programa.\n",
    "\n",
    "🔍 **Exemplo esperado:**\n",
    "\n",
    "```yaml\n",
    "Saldo disponível: R$ 500\n",
    "Digite o valor para sacar ou 'sair' para encerrar: 200\n",
    "Saque realizado! Novo saldo: R$ 300\n",
    "Digite o valor para sacar ou 'sair' para encerrar: 400\n",
    "❌ Saldo insuficiente!\n",
    "Digite o valor para sacar ou 'sair' para encerrar: sair\n",
    "🏦 Operação encerrada.\n",
    "```"
   ]
  },
  {
   "cell_type": "code",
   "execution_count": 9,
   "metadata": {},
   "outputs": [
    {
     "name": "stdout",
     "output_type": "stream",
     "text": [
      "💰 Saldo disponível: R$ 500.00\n",
      "🏦 Operação encerrada\n"
     ]
    }
   ],
   "source": [
    "saldo_disponivel = 500\n",
    "\n",
    "while saldo_disponivel > 0:\n",
    " print(f\"💰 Saldo disponível: R$ {saldo_disponivel:.2f}\")\n",
    " entrada_usuario = input(\"Digite o valor para sacar ou 'sair' para encerrar: \")\n",
    " \n",
    " if entrada_usuario.lower() == \"sair\":\n",
    "  print(\"🏦 Operação encerrada\")\n",
    "  break\n",
    " \n",
    " entrada_usuario = float(entrada_usuario)\n",
    " \n",
    " if entrada_usuario < saldo_disponivel:\n",
    "  saldo_disponivel -= entrada_usuario\n",
    "  print(f\"✅ Saque realizado! Novo saldo: R$ {saldo_disponivel:.2f}\")\n",
    " else:\n",
    "  print(\"❌ Saldo insuficiente\")"
   ]
  }
 ],
 "metadata": {
  "kernelspec": {
   "display_name": "Python 3",
   "language": "python",
   "name": "python3"
  },
  "language_info": {
   "codemirror_mode": {
    "name": "ipython",
    "version": 3
   },
   "file_extension": ".py",
   "mimetype": "text/x-python",
   "name": "python",
   "nbconvert_exporter": "python",
   "pygments_lexer": "ipython3",
   "version": "3.11.4"
  },
  "orig_nbformat": 4
 },
 "nbformat": 4,
 "nbformat_minor": 2
}
