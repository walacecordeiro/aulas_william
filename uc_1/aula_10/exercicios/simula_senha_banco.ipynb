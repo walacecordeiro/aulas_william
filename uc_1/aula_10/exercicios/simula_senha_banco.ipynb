{
 "cells": [
  {
   "cell_type": "markdown",
   "metadata": {},
   "source": [
    "### Simulação de Senha de Banco 🔐​\n",
    "`💡 Enunciado:`\n",
    "\n",
    "Crie um sistema que peça para o usuário digitar uma senha para acessar sua conta bancária. Ele tem apenas 3 tentativas para acertar a senha correta. Se ele errar as 3 vezes, o sistema bloqueia a conta.\n",
    "\n",
    "`📝 Regras:`\n",
    "- A senha correta é \"1234\".\n",
    "- O usuário tem até 3 tentativas para acertar.\n",
    "- Se errar as 3 vezes, exiba \"🚫 Conta bloqueada!\".\n",
    "\n",
    "`🔍 Exemplo esperado:`\n",
    "\n",
    "```yaml\n",
    "Digite sua senha: 1111\n",
    "Senha incorreta! Tentativas restantes: 2\n",
    "Digite sua senha: 2222\n",
    "Senha incorreta! Tentativas restantes: 1\n",
    "Digite sua senha: 3333\n",
    "🚫 Conta bloqueada!\n",
    "```"
   ]
  },
  {
   "cell_type": "code",
   "execution_count": null,
   "metadata": {},
   "outputs": [],
   "source": [
    "# Padrão para senhas numéricas\n",
    "\n",
    "senha_do_usuario = 1234\n",
    "tentativas = 3\n",
    "\n",
    "while tentativas > 0:\n",
    " entrada = int(input(\"Digite sua senha: \"))\n",
    "  \n",
    " if entrada == senha_do_usuario:\n",
    "  print(\"✅Login bem sucedido\")\n",
    "  break\n",
    " elif entrada != senha_do_usuario:\n",
    "  tentativas -= 1 \n",
    "  if tentativas == 0:\n",
    "   print(\"🚫Conta bloqueada!\")\n",
    "   break\n",
    "  else:\n",
    "  \tprint(f\"Senha incorreta! Tentativas restantes: {tentativas}\")\n",
    "   "
   ]
  },
  {
   "cell_type": "code",
   "execution_count": null,
   "metadata": {},
   "outputs": [],
   "source": [
    "# Padrâo senhas gerais\n",
    "\n",
    "senha_do_usuario = \"1234\"\n",
    "tentativas = 3\n",
    "\n",
    "while tentativas > 0:\n",
    " entrada = input(\"Digite sua senha: \")\n",
    "  \n",
    " if entrada == senha_do_usuario:\n",
    "  print(\"✅Login bem sucedido\")\n",
    "  break\n",
    " elif entrada != senha_do_usuario:\n",
    "  tentativas -= 1 \n",
    "  if tentativas == 0:\n",
    "   print(\"🚫Conta bloqueada!\")\n",
    "   break\n",
    "  else:\n",
    "  \tprint(f\"Senha incorreta! Tentativas restantes: {tentativas}\")\n",
    "   "
   ]
  }
 ],
 "metadata": {
  "kernelspec": {
   "display_name": "Python 3",
   "language": "python",
   "name": "python3"
  },
  "language_info": {
   "codemirror_mode": {
    "name": "ipython",
    "version": 3
   },
   "file_extension": ".py",
   "mimetype": "text/x-python",
   "name": "python",
   "nbconvert_exporter": "python",
   "pygments_lexer": "ipython3",
   "version": "3.13.1"
  }
 },
 "nbformat": 4,
 "nbformat_minor": 2
}
