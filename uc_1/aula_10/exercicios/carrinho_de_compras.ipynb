{
 "cells": [
  {
   "cell_type": "markdown",
   "metadata": {},
   "source": [
    "### **Carrinho de Compras 🛒**\n",
    "\n",
    "💡 **Enunciado**:\n",
    "\n",
    "Crie um programa que permita adicionar produtos a um carrinho de compras. O programa deve continuar pedindo produtos até que o usuário digite \"finalizar\". No final, exiba todos os produtos comprados.\n",
    "\n",
    "📝 **Regras:**\n",
    "\n",
    "- O usuário digita o nome do produto e ele é adicionado a uma lista.\n",
    "- Se o usuário digitar \"finalizar\", o programa encerra e mostra os produtos comprados.\n",
    "\n",
    "🔍 **Exemplo esperado:**\n",
    "\n",
    "```yaml\n",
    "Digite um produto para adicionar ao carrinho (ou 'finalizar' para encerrar): Pizza\n",
    "\n",
    "Digite um produto para adicionar ao carrinho (ou 'finalizar' para encerrar): Refrigerante\n",
    "Produto 'Refrigerante' adicionado ao carrinho!\n",
    "Digite um produto para adicionar ao carrinho (ou 'finalizar' para encerrar): finalizar\n",
    "Produto 'Pizza' adicionado ao carrinho!\n",
    "🛍️ Você comprou:\n",
    "- Pizza\n",
    "- Refrigerante\n",
    "```"
   ]
  },
  {
   "cell_type": "code",
   "execution_count": null,
   "metadata": {},
   "outputs": [],
   "source": [
    "lista_carrinho = []\n",
    "fecha_pedido = \"Finalizar\"\n",
    "\n",
    "while fecha_pedido not in lista_carrinho:\n",
    " item = input(\"Digite um produto para adicionar ao carrinho (ou 'finalizar' para encerrar): \").capitalize()\n",
    " lista_carrinho.append(item)\n",
    " \n",
    " if item != fecha_pedido:\n",
    "  print(f\"Produto '{item}' adicionado ao carrinho!\")\n",
    "  \n",
    "lista_carrinho.remove(fecha_pedido)\n",
    "\n",
    "if lista_carrinho:\n",
    " print(\"🛍️ Você comprou:\")\n",
    " for pedido in lista_carrinho:\n",
    "  print(f\"✅ {pedido}\")\n",
    "else:\n",
    " print(\"❌ Pedido cancelado\")"
   ]
  },
  {
   "cell_type": "code",
   "execution_count": 2,
   "metadata": {},
   "outputs": [
    {
     "name": "stdout",
     "output_type": "stream",
     "text": [
      "Produto 'Pizza' adicionado ao carrinho!\n",
      "🛍️ Você comprou:\n",
      "✅ Pizza\n"
     ]
    }
   ],
   "source": [
    "carrinho_compra = []\n",
    "finalizar_pedido = False\n",
    "\n",
    "while finalizar_pedido == False:\n",
    " item = input(\"Digite um produto para adicionar ao carrinho (ou 'finalizar' para encerrar): \").capitalize()\n",
    "  \n",
    " if item != \"Finalizar\":\n",
    "  carrinho_compra.append(item)\n",
    "  print(f\"Produto '{item}' adicionado ao carrinho!\")\n",
    " elif not carrinho_compra:\n",
    "  print(\"❌ Pedido cancelado\")\n",
    "  break  \n",
    " else:\n",
    "  print(\"🛍️ Você comprou:\")\n",
    "  for item in carrinho_compra:\n",
    "   print(f\"✅ {item}\")\n",
    "   \n",
    "  finalizar_pedido = True\n"
   ]
  }
 ],
 "metadata": {
  "kernelspec": {
   "display_name": "Python 3",
   "language": "python",
   "name": "python3"
  },
  "language_info": {
   "codemirror_mode": {
    "name": "ipython",
    "version": 3
   },
   "file_extension": ".py",
   "mimetype": "text/x-python",
   "name": "python",
   "nbconvert_exporter": "python",
   "pygments_lexer": "ipython3",
   "version": "3.13.1"
  },
  "orig_nbformat": 4
 },
 "nbformat": 4,
 "nbformat_minor": 2
}
