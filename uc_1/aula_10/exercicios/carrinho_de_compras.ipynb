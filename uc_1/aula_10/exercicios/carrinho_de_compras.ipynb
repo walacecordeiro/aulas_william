{
 "cells": [
  {
   "cell_type": "markdown",
   "metadata": {},
   "source": [
    "### **Carrinho de Compras 🛒**\n",
    "\n",
    "💡 **Enunciado**:\n",
    "\n",
    "Crie um programa que permita adicionar produtos a um carrinho de compras. O programa deve continuar pedindo produtos até que o usuário digite \"finalizar\". No final, exiba todos os produtos comprados.\n",
    "\n",
    "📝 **Regras:**\n",
    "\n",
    "- O usuário digita o nome do produto e ele é adicionado a uma lista.\n",
    "- Se o usuário digitar \"finalizar\", o programa encerra e mostra os produtos comprados.\n",
    "\n",
    "🔍 **Exemplo esperado:**\n",
    "\n",
    "```yaml\n",
    "Digite um produto para adicionar ao carrinho (ou 'finalizar' para encerrar): Pizza\n",
    "\n",
    "Digite um produto para adicionar ao carrinho (ou 'finalizar' para encerrar): Refrigerante\n",
    "Produto 'Refrigerante' adicionado ao carrinho!\n",
    "Digite um produto para adicionar ao carrinho (ou 'finalizar' para encerrar): finalizar\n",
    "Produto 'Pizza' adicionado ao carrinho!\n",
    "🛍️ Você comprou:\n",
    "- Pizza\n",
    "- Refrigerante\n",
    "```"
   ]
  },
  {
   "cell_type": "code",
   "execution_count": 10,
   "metadata": {},
   "outputs": [
    {
     "name": "stdout",
     "output_type": "stream",
     "text": [
      "Produto 'pizza' adicionado ao carrinho!\n",
      "Produto 'calabresa' adicionado ao carrinho!\n",
      "🛍️ Você comprou:\n",
      "pizza\n",
      "calabresa\n"
     ]
    }
   ],
   "source": [
    "lista_carrinho = []\n",
    "\n",
    "while \"finalizar\" not in lista_carrinho:\n",
    " item = input(\"Digite um produto para adicionar ao carrinho (ou 'finalizar' para encerrar): \")\n",
    " \n",
    " if item != \"finalizar\":\n",
    "  print(f\"Produto '{item}' adicionado ao carrinho!\")\n",
    " \n",
    " lista_carrinho.append(item)\n",
    " \n",
    "if \"finalizar\" in lista_carrinho:\n",
    " lista_carrinho.remove(\"finalizar\")\n",
    "\n",
    "print(\"🛍️ Você comprou:\") \n",
    "for pedido in lista_carrinho:\n",
    " print(pedido)\n"
   ]
  }
 ],
 "metadata": {
  "kernelspec": {
   "display_name": "Python 3",
   "language": "python",
   "name": "python3"
  },
  "language_info": {
   "codemirror_mode": {
    "name": "ipython",
    "version": 3
   },
   "file_extension": ".py",
   "mimetype": "text/x-python",
   "name": "python",
   "nbconvert_exporter": "python",
   "pygments_lexer": "ipython3",
   "version": "3.11.4"
  },
  "orig_nbformat": 4
 },
 "nbformat": 4,
 "nbformat_minor": 2
}
