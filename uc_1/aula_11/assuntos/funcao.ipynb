{
 "cells": [
  {
   "cell_type": "code",
   "execution_count": null,
   "metadata": {},
   "outputs": [],
   "source": [
    "def saudacao():\n",
    " return \"Olá, mundo!\"\n",
    "\n",
    "for i in range(1,5):  \n",
    " saudacao()\n",
    " print(f\"{saudacao()} {i}\")"
   ]
  },
  {
   "cell_type": "code",
   "execution_count": null,
   "metadata": {},
   "outputs": [],
   "source": [
    "nome = input(\"Insira seu nome: \")\n",
    "\n",
    "def entrada(nome): # função com parâmetro\n",
    " print(f\"Olá, {nome}! Seja bem vindo.\")\n",
    " \n",
    "entrada(nome)"
   ]
  },
  {
   "cell_type": "code",
   "execution_count": null,
   "metadata": {},
   "outputs": [],
   "source": [
    "n1 = int(input(\"Insira o primeiro número:\"))\n",
    "n2 = int(input(\"Insira o segundo número:\"))\n",
    "\n",
    "# Argumento não nomeados (posicionais)\n",
    "def soma(n1, n2):\n",
    " resultado = n1 + n2\n",
    " return resultado\n",
    "\n",
    "print(f\"A soma dos dois números é {soma(n1,n2)}\") # Argumentos passados para a função"
   ]
  },
  {
   "cell_type": "code",
   "execution_count": null,
   "metadata": {},
   "outputs": [],
   "source": [
    "def identificacao(idade, nome):\n",
    " print(f\"O seu nome é {nome} e sua idade é {idade} anos.\")\n",
    " \n",
    "identificacao(28, \"Walace Cordeiro\")"
   ]
  },
  {
   "cell_type": "code",
   "execution_count": null,
   "metadata": {},
   "outputs": [],
   "source": [
    "def apresentar(nome=\"Visitante\"):\n",
    " print(f\"Olá, {nome}. Seja bem-vindo!\")\n",
    " \n",
    "apresentar()\n",
    "apresentar(\"Walace\")"
   ]
  },
  {
   "cell_type": "code",
   "execution_count": null,
   "metadata": {},
   "outputs": [],
   "source": [
    "# Função que retorna múltiplos valores\n",
    "def calcular_area_perimetro(base, altura):\n",
    " area = base * altura\n",
    " perimetro = 2 * (base + altura)\n",
    " \n",
    " return area, perimetro\n",
    " \n",
    "print(calcular_area_perimetro(4,2))"
   ]
  },
  {
   "cell_type": "code",
   "execution_count": null,
   "metadata": {},
   "outputs": [],
   "source": [
    "# Função com while (Loop)\n",
    "def contagem_regressiva(numero):\n",
    " while numero > 0:\n",
    "  print(numero)\n",
    "  numero -= 1\n",
    " print(\"⏳ Tempo esgotado!\")\n",
    "\n",
    "contagem_regressiva(5)"
   ]
  },
  {
   "cell_type": "code",
   "execution_count": null,
   "metadata": {},
   "outputs": [],
   "source": [
    "# Função com for (loop)\n",
    "def listar_nomes(nomes):\n",
    " for nome in nomes:\n",
    "  print(f\"👥 Nome: {nome}\")\n",
    "  \n",
    "listar_nomes([\"Ana\", \"Bruno\", \"Carlos\"])"
   ]
  },
  {
   "cell_type": "code",
   "execution_count": null,
   "metadata": {},
   "outputs": [],
   "source": [
    "n1 = input(\"Insira o primeiro número:\")\n",
    "n2 = input(\"Insira o segundo número:\")\n",
    "\n",
    "dados_corretos = False\n",
    "\n",
    "while dados_corretos == False:\n",
    " if n1 == str(n1) or n2 == str(n2):\n",
    "  print(\"Insira apenas valores numéricos!!!\")\n",
    "  n1 = input(\"Insira o primeiro valor numérico\")\n",
    "  n2 = input(\"Insira o segundo valor numérico\")\n",
    "  continue\n",
    "  \n",
    "def soma(n1, n2):\n",
    " resultado = int(n1) + int(n2)\n",
    " return resultado\n",
    "\n",
    "print(f\"A soma dos dois números é {soma(n1,n2)}\")"
   ]
  }
 ],
 "metadata": {
  "kernelspec": {
   "display_name": "Python 3",
   "language": "python",
   "name": "python3"
  },
  "language_info": {
   "codemirror_mode": {
    "name": "ipython",
    "version": 3
   },
   "file_extension": ".py",
   "mimetype": "text/x-python",
   "name": "python",
   "nbconvert_exporter": "python",
   "pygments_lexer": "ipython3",
   "version": "3.11.4"
  },
  "orig_nbformat": 4
 },
 "nbformat": 4,
 "nbformat_minor": 2
}
