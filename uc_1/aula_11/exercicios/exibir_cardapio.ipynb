{
 "cells": [
  {
   "cell_type": "markdown",
   "metadata": {},
   "source": [
    "### Exercícios sobre Funções – Pizzaria Sabores\n",
    "\n",
    "Exibir o Cardápio\n",
    "\n",
    "💡 Enunciado:\n",
    "Crie uma função chamada exibir_cardapio() que exibe o cardápio da pizzaria.\n",
    "📝 Regras:\n",
    "O cardápio deve ser armazenado em um dicionário, onde as chaves são os sabores das pizzas e os valores são os preços.\n",
    "A função deve exibir os itens do cardápio formatados corretamente.\n",
    "🔍 Exemplo esperado:\n",
    "\n",
    "```yaml\n",
    "🍕 Cardápio da Pizzaria Sabores:\n",
    "1. Mussarela - R$ 30.00\n",
    "2. Calabresa - R$ 32.00\n",
    "3. Pepperoni - R$ 35.00\n",
    "4. Quatro Queijos - R$ 38.00\n",
    "5. Frango com Catupiry - R$ 40.00\n",
    "```"
   ]
  },
  {
   "cell_type": "code",
   "execution_count": null,
   "metadata": {},
   "outputs": [],
   "source": [
    "cardapio = {\n",
    " \"Mussarela\" : 30.00,\n",
    " \"Calabresa\" : 32.00,\n",
    " \"Peperoni\" : 35.00,\n",
    " \"Quatro Queijos\" : 38.00,\n",
    " \"Frango com Catupiry\" : 40.00\n",
    "}\n",
    "\n",
    "def exibir_cardapio(cardapio):\n",
    " for sabor, valor in cardapio:\n",
    "  print(f\"{sabor} - {valor}\")\n",
    "\n",
    "exibir_cardapio(cardapio)"
   ]
  }
 ],
 "metadata": {
  "kernelspec": {
   "display_name": "Python 3",
   "language": "python",
   "name": "python3"
  },
  "language_info": {
   "codemirror_mode": {
    "name": "ipython",
    "version": 3
   },
   "file_extension": ".py",
   "mimetype": "text/x-python",
   "name": "python",
   "nbconvert_exporter": "python",
   "pygments_lexer": "ipython3",
   "version": "3.11.4"
  },
  "orig_nbformat": 4
 },
 "nbformat": 4,
 "nbformat_minor": 2
}
