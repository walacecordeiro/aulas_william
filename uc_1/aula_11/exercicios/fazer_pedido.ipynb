{
 "cells": [
  {
   "cell_type": "markdown",
   "metadata": {},
   "source": [
    "### Fazer um Pedido 🛒​\n",
    "💡 Enunciado:\n",
    "Crie uma função chamada fazer_pedido() que permite ao cliente escolher pizzas do cardápio.\n",
    "\n",
    "📝 Regras:\n",
    "A função deve receber o cardápio como argumento.\n",
    "O cliente pode escolher quantas pizzas quiser.\n",
    "O pedido deve ser armazenado em uma lista.\n",
    "Se o cliente digitar \"sair\", o pedido deve ser finalizado.\n",
    "Se o sabor digitado não existir no cardápio, exibir um erro e pedir outra escolha.\n",
    "Retornar a lista com os sabores escolhidos.\n",
    "\n",
    "🔍 Exemplo esperado:\n",
    "\n",
    "```yaml\n",
    "Digite o sabor da pizza (ou 'sair' para finalizar): Mussarela\n",
    "✅ Mussarela adicionada ao pedido!\n",
    "Digite o sabor da pizza (ou 'sair' para finalizar): Quatro Queijos\n",
    "✅ Quatro Queijos adicionada ao pedido!\n",
    "Digite o sabor da pizza (ou 'sair' para finalizar): Chocolate\n",
    "❌ Esse sabor não está disponível. Escolha outro.\n",
    "Digite o sabor da pizza (ou 'sair' para finalizar): sair\n",
    "\n",
    "📦 Pedido finalizado! Pizzas escolhidas: ['Mussarela', 'Quatro Queijos']\n",
    "```"
   ]
  },
  {
   "cell_type": "code",
   "execution_count": null,
   "metadata": {},
   "outputs": [],
   "source": [
    "def fazer_pedido(cardapio):\n",
    " pedido = []\n",
    " \n",
    " while True:\n",
    "  sabor = input(\"Digite o sabor da pizza que deseja (ou 'Sair' para finalizar)\").capitalize()\n",
    "  \n",
    "  if sabor == \"Sair\":\n",
    "   break\n",
    "  elif sabor in cardapio:\n",
    "   pedido.append(sabor)\n",
    "   print(f\"{sabor} adicionado ao pedido!\")\n",
    "  else:\n",
    "   print(f\"{sabor} não está disponível. Escolha outro.\")\n",
    " \n",
    " return pedido\n",
    "\n",
    "cardapio = [\"Mussarela\", \"Calabresa\", \"Frango com catupiry\", \"Quatro queijos\"]\n",
    "pedido_do_cliente = fazer_pedido(cardapio)\n",
    "\n",
    "if pedido_do_cliente:\n",
    " print(\"O cliente comprou: \")\n",
    " for item in pedido_do_cliente:\n",
    "  print(f\"- {item}\")"
   ]
  }
 ],
 "metadata": {
  "kernelspec": {
   "display_name": "Python 3",
   "language": "python",
   "name": "python3"
  },
  "language_info": {
   "codemirror_mode": {
    "name": "ipython",
    "version": 3
   },
   "file_extension": ".py",
   "mimetype": "text/x-python",
   "name": "python",
   "nbconvert_exporter": "python",
   "pygments_lexer": "ipython3",
   "version": "3.11.4"
  },
  "orig_nbformat": 4
 },
 "nbformat": 4,
 "nbformat_minor": 2
}
