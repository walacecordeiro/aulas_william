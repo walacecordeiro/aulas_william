{
 "cells": [
  {
   "cell_type": "code",
   "execution_count": 44,
   "metadata": {},
   "outputs": [
    {
     "name": "stdout",
     "output_type": "stream",
     "text": [
      "Ingredientes básicos: {'tomate', 'calabresa', 'azeitona', 'mussarela'}\n"
     ]
    }
   ],
   "source": [
    "ingredientes = {\"mussarela\", \"calabresa\", \"tomate\", \"azeitona\"} # Este é um conjunto, sua ordem é randomizada\n",
    "print(f\"Ingredientes básicos: {ingredientes}\")"
   ]
  },
  {
   "cell_type": "code",
   "execution_count": 45,
   "metadata": {},
   "outputs": [
    {
     "name": "stdout",
     "output_type": "stream",
     "text": [
      "{'tomate', 'mussarela', 'calabresa', 'orégano', 'azeitona'}\n"
     ]
    }
   ],
   "source": [
    "# Operações com conjuntos\n",
    "# Adicionar itens:\n",
    "\n",
    "ingredientes.add(\"orégano\")\n",
    "print(ingredientes)"
   ]
  },
  {
   "cell_type": "code",
   "execution_count": 46,
   "metadata": {},
   "outputs": [
    {
     "name": "stdout",
     "output_type": "stream",
     "text": [
      "Ingredientes após a remoção: {'tomate', 'mussarela', 'calabresa', 'orégano'}\n"
     ]
    }
   ],
   "source": [
    "# Remover elementos\n",
    "ingredientes.remove(\"azeitona\")\n",
    "print(f\"Ingredientes após a remoção: {ingredientes}\")"
   ]
  },
  {
   "cell_type": "code",
   "execution_count": 47,
   "metadata": {},
   "outputs": [
    {
     "name": "stdout",
     "output_type": "stream",
     "text": [
      "{'tomate', 'orégano', 'bacon', 'palmito', 'mussarela', 'calabresa'}\n",
      "{'tomate', 'orégano', 'bacon', 'palmito', 'mussarela', 'calabresa'}\n"
     ]
    }
   ],
   "source": [
    "# união dos conjuntos\n",
    "adicionais = {\"bacon\", \"palmito\"}\n",
    "\n",
    "# com método\n",
    "todos_ingredientes = ingredientes.union(adicionais)\n",
    "\n",
    "# com operador\n",
    "outra_forma = ingredientes | adicionais\n",
    "\n",
    "print(todos_ingredientes)\n",
    "print(outra_forma)"
   ]
  },
  {
   "cell_type": "code",
   "execution_count": 48,
   "metadata": {},
   "outputs": [
    {
     "name": "stdout",
     "output_type": "stream",
     "text": [
      "{'tomate'}\n",
      "{'tomate'}\n"
     ]
    }
   ],
   "source": [
    "# Interseção de conjuntos -> Aparece em ambos\n",
    "pizza_vegana = {'tomate', 'azeitona', 'rúcula'}\n",
    "\n",
    "teste_com_metodo = ingredientes.intersection(pizza_vegana)\n",
    "teste_com_operador = ingredientes & pizza_vegana\n",
    "\n",
    "print(teste_com_metodo)\n",
    "print(teste_com_operador)"
   ]
  }
 ],
 "metadata": {
  "kernelspec": {
   "display_name": "Python 3",
   "language": "python",
   "name": "python3"
  },
  "language_info": {
   "codemirror_mode": {
    "name": "ipython",
    "version": 3
   },
   "file_extension": ".py",
   "mimetype": "text/x-python",
   "name": "python",
   "nbconvert_exporter": "python",
   "pygments_lexer": "ipython3",
   "version": "3.11.4"
  },
  "orig_nbformat": 4
 },
 "nbformat": 4,
 "nbformat_minor": 2
}
