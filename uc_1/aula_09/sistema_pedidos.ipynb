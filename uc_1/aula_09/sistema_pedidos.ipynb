{
 "cells": [
  {
   "cell_type": "code",
   "execution_count": 15,
   "metadata": {},
   "outputs": [
    {
     "name": "stdout",
     "output_type": "stream",
     "text": [
      "['mussarela', 'calabresa']\n"
     ]
    }
   ],
   "source": [
    "cardapio = {\n",
    " \"mussarela\" : 25.90,\n",
    " \"calabresa\" : 27.90,\n",
    " \"frango com catupiry\" : 29.90\n",
    "}\n",
    "\n",
    "pedido = []\n",
    "\n",
    "pedido.append(\"mussarela\")\n",
    "pedido.append(\"calabresa\")\n",
    "\n",
    "print(pedido)"
   ]
  },
  {
   "cell_type": "code",
   "execution_count": 20,
   "metadata": {},
   "outputs": [
    {
     "name": "stdout",
     "output_type": "stream",
     "text": [
      "53.8\n"
     ]
    }
   ],
   "source": [
    "# sum() -> Soma\n",
    "# Calculo total do pedido\n",
    "total = sum(cardapio[sabor] for sabor in pedido)\n",
    "print(total)"
   ]
  },
  {
   "cell_type": "code",
   "execution_count": 18,
   "metadata": {},
   "outputs": [
    {
     "name": "stdout",
     "output_type": "stream",
     "text": [
      "Resumo do pedido:\n",
      " - mussarela: R$ 25.90\n",
      " - calabresa: R$ 27.90\n"
     ]
    }
   ],
   "source": [
    "# Resumo do pedido\n",
    "# mussarela: R$25.90\n",
    "# calabresa: R$25.90\n",
    "print(\"Resumo do pedido:\")\n",
    "\n",
    "for sabor in pedido:\n",
    " print(f\" - {sabor}: R$ {cardapio[sabor]:.2F}\")"
   ]
  }
 ],
 "metadata": {
  "kernelspec": {
   "display_name": "Python 3",
   "language": "python",
   "name": "python3"
  },
  "language_info": {
   "codemirror_mode": {
    "name": "ipython",
    "version": 3
   },
   "file_extension": ".py",
   "mimetype": "text/x-python",
   "name": "python",
   "nbconvert_exporter": "python",
   "pygments_lexer": "ipython3",
   "version": "3.11.4"
  },
  "orig_nbformat": 4
 },
 "nbformat": 4,
 "nbformat_minor": 2
}
