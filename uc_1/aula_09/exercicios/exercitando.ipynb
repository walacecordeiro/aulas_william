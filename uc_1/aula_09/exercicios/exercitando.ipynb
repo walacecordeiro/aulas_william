{
 "cells": [
  {
   "cell_type": "markdown",
   "metadata": {},
   "source": [
    "1. **Lista de Pedidos**\n",
    "    \n",
    "    `Crie uma lista de sabores de pizzas pedidos` pelo cliente. Adicione `3 sabores à lista` e `remova 1 sabor.` Exiba o pedido final."
   ]
  },
  {
   "cell_type": "code",
   "execution_count": 3,
   "metadata": {},
   "outputs": [
    {
     "name": "stdout",
     "output_type": "stream",
     "text": [
      "['cheddar', 'presunto']\n"
     ]
    }
   ],
   "source": [
    "lista_pedido = []\n",
    "\n",
    "lista_pedido.append(\"bacon\")\n",
    "lista_pedido.append(\"cheddar\")\n",
    "lista_pedido.append(\"presunto\")\n",
    "\n",
    "lista_pedido.remove(\"bacon\")\n",
    "\n",
    "print(lista_pedido)"
   ]
  },
  {
   "cell_type": "markdown",
   "metadata": {},
   "source": [
    "2. **Verificação de Ingredientes**\n",
    "    \n",
    "    Dado dois conjuntos de ingredientes, `exiba os ingredientes comuns entre eles` e os `que estão disponíveis apenas em um conjunto.`"
   ]
  },
  {
   "cell_type": "code",
   "execution_count": 4,
   "metadata": {},
   "outputs": [
    {
     "name": "stdout",
     "output_type": "stream",
     "text": [
      "{'tomate', 'arroz'}\n",
      "{'feijão'}\n"
     ]
    }
   ],
   "source": [
    "ingredientes_01 = {\"arroz\", \"feijão\", \"tomate\"}\n",
    "ingredientes_02 = {\"arroz\", \"batata\", \"tomate\"}\n",
    "\n",
    "ingredientes_em_comum = ingredientes_01.intersection(ingredientes_02)\n",
    "disponiveis_ingredientes_01 = ingredientes_01.difference(ingredientes_02)\n",
    "\n",
    "\n",
    "print(ingredientes_em_comum)\n",
    "print(disponiveis_ingredientes_01)"
   ]
  },
  {
   "cell_type": "markdown",
   "metadata": {},
   "source": [
    "3. **Atualizar Cardápio**\n",
    "    \n",
    "    `Crie` um `dicionário para o cardápio` e `adicione um novo sabor com preço`. `Atualize` o preço de um sabor existente e `remova` um sabor do cardápio."
   ]
  },
  {
   "cell_type": "code",
   "execution_count": 5,
   "metadata": {},
   "outputs": [
    {
     "name": "stdout",
     "output_type": "stream",
     "text": [
      "{'carne assada': 200.9, 'dobradinha': 17.9, 'churrasco': 19.9, 'sopa': 15.9}\n"
     ]
    }
   ],
   "source": [
    "cardapio = {\n",
    " \"carne assada\" : 16.90,\n",
    " \"dobradinha\" : 17.90,\n",
    " \"churrasco\" : 19.90\n",
    "}\n",
    "\n",
    "cardapio.update({\"sopa\": 15.90})\n",
    "cardapio.update({\"carne assada\": 200.90})\n",
    "\n",
    "print(cardapio)"
   ]
  },
  {
   "cell_type": "markdown",
   "metadata": {},
   "source": [
    "4. **Controle de Estoque**\n",
    "    \n",
    "    `Crie` um `dicionário com os estoques` de cada sabor. `Decremente` o estoque conforme os pedidos feitos e exiba uma `mensagem se o estoque acabar.`"
   ]
  },
  {
   "cell_type": "code",
   "execution_count": null,
   "metadata": {},
   "outputs": [],
   "source": []
  }
 ],
 "metadata": {
  "kernelspec": {
   "display_name": "Python 3",
   "language": "python",
   "name": "python3"
  },
  "language_info": {
   "codemirror_mode": {
    "name": "ipython",
    "version": 3
   },
   "file_extension": ".py",
   "mimetype": "text/x-python",
   "name": "python",
   "nbconvert_exporter": "python",
   "pygments_lexer": "ipython3",
   "version": "3.11.4"
  },
  "orig_nbformat": 4
 },
 "nbformat": 4,
 "nbformat_minor": 2
}
